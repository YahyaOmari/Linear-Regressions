{
 "cells": [
  {
   "cell_type": "code",
   "execution_count": 144,
   "id": "b36f597b-8825-4cc3-b626-eb5db954696a",
   "metadata": {},
   "outputs": [],
   "source": [
    "import pandas as pd\n",
    "import matplotlib.pyplot as plt\n",
    "from sklearn.linear_model import LinearRegression as linearReg\n",
    "from sklearn.model_selection import train_test_split"
   ]
  },
  {
   "cell_type": "code",
   "execution_count": 145,
   "id": "74970c9f-f7d1-4007-9611-291a00bc6857",
   "metadata": {},
   "outputs": [
    {
     "data": {
      "text/html": [
       "<div>\n",
       "<style scoped>\n",
       "    .dataframe tbody tr th:only-of-type {\n",
       "        vertical-align: middle;\n",
       "    }\n",
       "\n",
       "    .dataframe tbody tr th {\n",
       "        vertical-align: top;\n",
       "    }\n",
       "\n",
       "    .dataframe thead th {\n",
       "        text-align: right;\n",
       "    }\n",
       "</style>\n",
       "<table border=\"1\" class=\"dataframe\">\n",
       "  <thead>\n",
       "    <tr style=\"text-align: right;\">\n",
       "      <th></th>\n",
       "      <th>Species</th>\n",
       "      <th>Weight</th>\n",
       "      <th>Length1</th>\n",
       "      <th>Length2</th>\n",
       "      <th>Length3</th>\n",
       "      <th>Height</th>\n",
       "      <th>Width</th>\n",
       "    </tr>\n",
       "  </thead>\n",
       "  <tbody>\n",
       "    <tr>\n",
       "      <th>0</th>\n",
       "      <td>Bream</td>\n",
       "      <td>242.0</td>\n",
       "      <td>23.2</td>\n",
       "      <td>25.4</td>\n",
       "      <td>30.0</td>\n",
       "      <td>11.5200</td>\n",
       "      <td>4.0200</td>\n",
       "    </tr>\n",
       "    <tr>\n",
       "      <th>1</th>\n",
       "      <td>Bream</td>\n",
       "      <td>290.0</td>\n",
       "      <td>24.0</td>\n",
       "      <td>26.3</td>\n",
       "      <td>31.2</td>\n",
       "      <td>12.4800</td>\n",
       "      <td>4.3056</td>\n",
       "    </tr>\n",
       "    <tr>\n",
       "      <th>2</th>\n",
       "      <td>Bream</td>\n",
       "      <td>340.0</td>\n",
       "      <td>23.9</td>\n",
       "      <td>26.5</td>\n",
       "      <td>31.1</td>\n",
       "      <td>12.3778</td>\n",
       "      <td>4.6961</td>\n",
       "    </tr>\n",
       "    <tr>\n",
       "      <th>3</th>\n",
       "      <td>Bream</td>\n",
       "      <td>363.0</td>\n",
       "      <td>26.3</td>\n",
       "      <td>29.0</td>\n",
       "      <td>33.5</td>\n",
       "      <td>12.7300</td>\n",
       "      <td>4.4555</td>\n",
       "    </tr>\n",
       "    <tr>\n",
       "      <th>4</th>\n",
       "      <td>Bream</td>\n",
       "      <td>430.0</td>\n",
       "      <td>26.5</td>\n",
       "      <td>29.0</td>\n",
       "      <td>34.0</td>\n",
       "      <td>12.4440</td>\n",
       "      <td>5.1340</td>\n",
       "    </tr>\n",
       "  </tbody>\n",
       "</table>\n",
       "</div>"
      ],
      "text/plain": [
       "  Species  Weight  Length1  Length2  Length3   Height   Width\n",
       "0   Bream   242.0     23.2     25.4     30.0  11.5200  4.0200\n",
       "1   Bream   290.0     24.0     26.3     31.2  12.4800  4.3056\n",
       "2   Bream   340.0     23.9     26.5     31.1  12.3778  4.6961\n",
       "3   Bream   363.0     26.3     29.0     33.5  12.7300  4.4555\n",
       "4   Bream   430.0     26.5     29.0     34.0  12.4440  5.1340"
      ]
     },
     "execution_count": 145,
     "metadata": {},
     "output_type": "execute_result"
    }
   ],
   "source": [
    "# Load the data you receive into a Pandas DataFrame.\n",
    "\n",
    "df = pd.read_csv(\"./fish.csv\")\n",
    "df\n",
    "\n",
    "# Show the first five rows of the data set.\n",
    "df.head(5)"
   ]
  },
  {
   "cell_type": "code",
   "execution_count": 146,
   "id": "4d90c8f5-7686-4dbe-876b-677748fc4a86",
   "metadata": {},
   "outputs": [
    {
     "data": {
      "text/html": [
       "<div>\n",
       "<style scoped>\n",
       "    .dataframe tbody tr th:only-of-type {\n",
       "        vertical-align: middle;\n",
       "    }\n",
       "\n",
       "    .dataframe tbody tr th {\n",
       "        vertical-align: top;\n",
       "    }\n",
       "\n",
       "    .dataframe thead th {\n",
       "        text-align: right;\n",
       "    }\n",
       "</style>\n",
       "<table border=\"1\" class=\"dataframe\">\n",
       "  <thead>\n",
       "    <tr style=\"text-align: right;\">\n",
       "      <th></th>\n",
       "      <th>Weight</th>\n",
       "      <th>Length1</th>\n",
       "      <th>Length2</th>\n",
       "      <th>Length3</th>\n",
       "      <th>Height</th>\n",
       "      <th>Width</th>\n",
       "    </tr>\n",
       "  </thead>\n",
       "  <tbody>\n",
       "    <tr>\n",
       "      <th>count</th>\n",
       "      <td>159.000000</td>\n",
       "      <td>159.000000</td>\n",
       "      <td>159.000000</td>\n",
       "      <td>159.000000</td>\n",
       "      <td>159.000000</td>\n",
       "      <td>159.000000</td>\n",
       "    </tr>\n",
       "    <tr>\n",
       "      <th>mean</th>\n",
       "      <td>398.326415</td>\n",
       "      <td>26.247170</td>\n",
       "      <td>28.415723</td>\n",
       "      <td>31.227044</td>\n",
       "      <td>8.970994</td>\n",
       "      <td>4.417486</td>\n",
       "    </tr>\n",
       "    <tr>\n",
       "      <th>std</th>\n",
       "      <td>357.978317</td>\n",
       "      <td>9.996441</td>\n",
       "      <td>10.716328</td>\n",
       "      <td>11.610246</td>\n",
       "      <td>4.286208</td>\n",
       "      <td>1.685804</td>\n",
       "    </tr>\n",
       "    <tr>\n",
       "      <th>min</th>\n",
       "      <td>0.000000</td>\n",
       "      <td>7.500000</td>\n",
       "      <td>8.400000</td>\n",
       "      <td>8.800000</td>\n",
       "      <td>1.728400</td>\n",
       "      <td>1.047600</td>\n",
       "    </tr>\n",
       "    <tr>\n",
       "      <th>25%</th>\n",
       "      <td>120.000000</td>\n",
       "      <td>19.050000</td>\n",
       "      <td>21.000000</td>\n",
       "      <td>23.150000</td>\n",
       "      <td>5.944800</td>\n",
       "      <td>3.385650</td>\n",
       "    </tr>\n",
       "    <tr>\n",
       "      <th>50%</th>\n",
       "      <td>273.000000</td>\n",
       "      <td>25.200000</td>\n",
       "      <td>27.300000</td>\n",
       "      <td>29.400000</td>\n",
       "      <td>7.786000</td>\n",
       "      <td>4.248500</td>\n",
       "    </tr>\n",
       "    <tr>\n",
       "      <th>75%</th>\n",
       "      <td>650.000000</td>\n",
       "      <td>32.700000</td>\n",
       "      <td>35.500000</td>\n",
       "      <td>39.650000</td>\n",
       "      <td>12.365900</td>\n",
       "      <td>5.584500</td>\n",
       "    </tr>\n",
       "    <tr>\n",
       "      <th>max</th>\n",
       "      <td>1650.000000</td>\n",
       "      <td>59.000000</td>\n",
       "      <td>63.400000</td>\n",
       "      <td>68.000000</td>\n",
       "      <td>18.957000</td>\n",
       "      <td>8.142000</td>\n",
       "    </tr>\n",
       "  </tbody>\n",
       "</table>\n",
       "</div>"
      ],
      "text/plain": [
       "            Weight     Length1     Length2     Length3      Height       Width\n",
       "count   159.000000  159.000000  159.000000  159.000000  159.000000  159.000000\n",
       "mean    398.326415   26.247170   28.415723   31.227044    8.970994    4.417486\n",
       "std     357.978317    9.996441   10.716328   11.610246    4.286208    1.685804\n",
       "min       0.000000    7.500000    8.400000    8.800000    1.728400    1.047600\n",
       "25%     120.000000   19.050000   21.000000   23.150000    5.944800    3.385650\n",
       "50%     273.000000   25.200000   27.300000   29.400000    7.786000    4.248500\n",
       "75%     650.000000   32.700000   35.500000   39.650000   12.365900    5.584500\n",
       "max    1650.000000   59.000000   63.400000   68.000000   18.957000    8.142000"
      ]
     },
     "execution_count": 146,
     "metadata": {},
     "output_type": "execute_result"
    }
   ],
   "source": [
    "# Show the description \n",
    "df.describe()"
   ]
  },
  {
   "cell_type": "code",
   "execution_count": 147,
   "id": "56d21ce3-5b2e-4bf7-ad83-6b859bcb1434",
   "metadata": {},
   "outputs": [
    {
     "name": "stdout",
     "output_type": "stream",
     "text": [
      "<class 'pandas.core.frame.DataFrame'>\n",
      "RangeIndex: 159 entries, 0 to 158\n",
      "Data columns (total 7 columns):\n",
      " #   Column   Non-Null Count  Dtype  \n",
      "---  ------   --------------  -----  \n",
      " 0   Species  159 non-null    object \n",
      " 1   Weight   159 non-null    float64\n",
      " 2   Length1  159 non-null    float64\n",
      " 3   Length2  159 non-null    float64\n",
      " 4   Length3  159 non-null    float64\n",
      " 5   Height   159 non-null    float64\n",
      " 6   Width    159 non-null    float64\n",
      "dtypes: float64(6), object(1)\n",
      "memory usage: 8.8+ KB\n"
     ]
    }
   ],
   "source": [
    "# Show the  info of the data set.\n",
    "df.info()"
   ]
  },
  {
   "cell_type": "code",
   "execution_count": 177,
   "id": "89761abe-6652-4fa3-b8f3-96b5912275c8",
   "metadata": {},
   "outputs": [],
   "source": [
    "X = df['Width'].values.reshape(-1,1)\n",
    "y = df['Height'].values"
   ]
  },
  {
   "cell_type": "code",
   "execution_count": 197,
   "id": "debf38dc-fd67-4b0c-a384-199deadb25f0",
   "metadata": {},
   "outputs": [],
   "source": [
    "# Using a regression model, split your data into train and test data.\n",
    "x_train, x_test, y_train, y_test = train_test_split(X, y, train_size = 0.8, test_size = 0.2, random_state = 4)\n"
   ]
  },
  {
   "cell_type": "code",
   "execution_count": null,
   "id": "950382fa-3390-466a-be4f-2ad94dc6a5cd",
   "metadata": {},
   "outputs": [],
   "source": []
  },
  {
   "cell_type": "code",
   "execution_count": 198,
   "id": "348c5e1d-1029-4238-90ce-b3320028066a",
   "metadata": {},
   "outputs": [
    {
     "data": {
      "text/plain": [
       "LinearRegression()"
      ]
     },
     "execution_count": 198,
     "metadata": {},
     "output_type": "execute_result"
    }
   ],
   "source": [
    "# Fit your training split to the regression model.\n",
    "linear = linearReg()\n",
    "linear.fit(x_train, y_train)"
   ]
  },
  {
   "cell_type": "code",
   "execution_count": 187,
   "id": "ce69d457-770c-4f3a-8d18-10f664ee39b3",
   "metadata": {},
   "outputs": [],
   "source": [
    "y_predict = linear.predict(x_test) # to use it with the line"
   ]
  },
  {
   "cell_type": "code",
   "execution_count": 188,
   "id": "116bc7a5-e34d-4ea3-bb34-3d6cd3606694",
   "metadata": {},
   "outputs": [
    {
     "name": "stdout",
     "output_type": "stream",
     "text": [
      "test accuracy: 47.615369768428714\n"
     ]
    }
   ],
   "source": [
    "print(f'test accuracy: {linear.score(x_test, y_test)*100}')\n"
   ]
  },
  {
   "cell_type": "code",
   "execution_count": 189,
   "id": "1966fab1-cbb0-4931-9211-3e2068f31b9e",
   "metadata": {},
   "outputs": [
    {
     "name": "stdout",
     "output_type": "stream",
     "text": [
      "train accuracy: 64.94919219292362\n"
     ]
    }
   ],
   "source": [
    "print(f'train accuracy: {linear.score(x_train, y_train)*100}')\n"
   ]
  },
  {
   "cell_type": "code",
   "execution_count": 195,
   "id": "22845110-eef6-436a-9402-9064101bb408",
   "metadata": {},
   "outputs": [
    {
     "data": {
      "image/png": "[encoded data removed]",
      "text/plain": [
       "<Figure size 432x288 with 1 Axes>"
      ]
     },
     "metadata": {
      "needs_background": "light"
     },
     "output_type": "display_data"
    }
   ],
   "source": [
    "# Show your regression model’s score.\n",
    "plt.scatter(x_train, y_train, color='green')\n",
    "plt.scatter(x_test, y_test, color='purple')\n",
    "plt.plot(x_test, y_predict, color='red')\n",
    "plt.xlabel('Width')\n",
    "plt.ylabel('Height')\n",
    "plt.title('Fish Data')\n",
    "plt.show()"
   ]
  },
  {
   "cell_type": "code",
   "execution_count": 156,
   "id": "c8b0fc6f-117a-4e97-84e1-5c01cf779942",
   "metadata": {},
   "outputs": [],
   "source": [
    "X = df['Width'].values.reshape(-1,1)\n",
    "y = df['Weight'].values"
   ]
  },
  {
   "cell_type": "code",
   "execution_count": 157,
   "id": "4ae086ab-a416-4380-a920-b85fd97cc2ba",
   "metadata": {},
   "outputs": [
    {
     "data": {
      "text/plain": [
       "127"
      ]
     },
     "execution_count": 157,
     "metadata": {},
     "output_type": "execute_result"
    }
   ],
   "source": [
    "x_train, x_test, y_train, y_test = train_test_split(X, y, train_size = 0.8, test_size = 0.2, random_state = 4)\n",
    "len(x_train)"
   ]
  },
  {
   "cell_type": "code",
   "execution_count": 158,
   "id": "6e3ef481-e6ce-4ab7-a4da-c1ac590c3ecc",
   "metadata": {},
   "outputs": [
    {
     "data": {
      "text/plain": [
       "32"
      ]
     },
     "execution_count": 158,
     "metadata": {},
     "output_type": "execute_result"
    }
   ],
   "source": [
    "len(x_test)"
   ]
  },
  {
   "cell_type": "code",
   "execution_count": 159,
   "id": "b3ab2108-f3e7-49bc-b8f5-1bf2f9875eac",
   "metadata": {},
   "outputs": [
    {
     "data": {
      "text/plain": [
       "LinearRegression()"
      ]
     },
     "execution_count": 159,
     "metadata": {},
     "output_type": "execute_result"
    }
   ],
   "source": [
    "linear = linearReg()\n",
    "linear.fit(x_train, y_train)"
   ]
  },
  {
   "cell_type": "code",
   "execution_count": 160,
   "id": "b404a636-7626-4942-9ada-6bfcbf17b12f",
   "metadata": {},
   "outputs": [],
   "source": [
    "y_predict = linear.predict(x_test)"
   ]
  },
  {
   "cell_type": "code",
   "execution_count": 161,
   "id": "215f90ee-303d-4406-a395-bd465e680652",
   "metadata": {},
   "outputs": [
    {
     "name": "stdout",
     "output_type": "stream",
     "text": [
      "test accuracy: 87.36828450812226\n"
     ]
    }
   ],
   "source": [
    "print(f'test accuracy: {linear.score(x_test, y_test)*100}')\n"
   ]
  },
  {
   "cell_type": "code",
   "execution_count": 162,
   "id": "9200fa67-9b21-4071-83f5-1f58259a7a0c",
   "metadata": {},
   "outputs": [
    {
     "name": "stdout",
     "output_type": "stream",
     "text": [
      "train accuracy: 76.40311027716332\n"
     ]
    }
   ],
   "source": [
    "print(f'train accuracy: {linear.score(x_train, y_train)*100}')\n"
   ]
  },
  {
   "cell_type": "code",
   "execution_count": 163,
   "id": "16bca075-31fe-4c83-990c-bf7fa575f6de",
   "metadata": {},
   "outputs": [
    {
     "data": {
      "image/png": "[encoded data removed]",
      "text/plain": [
       "<Figure size 432x288 with 1 Axes>"
      ]
     },
     "metadata": {
      "needs_background": "light"
     },
     "output_type": "display_data"
    }
   ],
   "source": [
    "plt.scatter(x_train, y_train, color='green')\n",
    "plt.scatter(x_test, y_test, color='purple')\n",
    "plt.plot(x_test, y_predict, color='yellow')\n",
    "plt.xlabel('Width')\n",
    "plt.ylabel('Weight')\n",
    "plt.title('Fish Data')\n",
    "plt.show()"
   ]
  },
  {
   "cell_type": "code",
   "execution_count": 164,
   "id": "cc2a6db7-fcc1-42e2-9a03-ad40cc64531c",
   "metadata": {},
   "outputs": [],
   "source": [
    "X = df['Width'].values.reshape(-1,1)\n",
    "y = df['Length1'].values"
   ]
  },
  {
   "cell_type": "code",
   "execution_count": 165,
   "id": "ed27c4ae-06b3-4578-a16a-1af04a859346",
   "metadata": {},
   "outputs": [
    {
     "data": {
      "text/plain": [
       "127"
      ]
     },
     "execution_count": 165,
     "metadata": {},
     "output_type": "execute_result"
    }
   ],
   "source": [
    "x_train, x_test, y_train, y_test = train_test_split(X, y, train_size = 0.8, test_size = 0.2, random_state = 4)\n",
    "len(x_train)"
   ]
  },
  {
   "cell_type": "code",
   "execution_count": 166,
   "id": "13f93b6d-2e4d-4c13-aa10-e9713cb35dc4",
   "metadata": {},
   "outputs": [
    {
     "data": {
      "text/plain": [
       "32"
      ]
     },
     "execution_count": 166,
     "metadata": {},
     "output_type": "execute_result"
    }
   ],
   "source": [
    "len(x_test)"
   ]
  },
  {
   "cell_type": "code",
   "execution_count": 167,
   "id": "c6ac838d-558d-4296-87de-bf210c242073",
   "metadata": {},
   "outputs": [
    {
     "data": {
      "text/plain": [
       "LinearRegression()"
      ]
     },
     "execution_count": 167,
     "metadata": {},
     "output_type": "execute_result"
    }
   ],
   "source": [
    "linear = linearReg()\n",
    "linear.fit(x_train, y_train)"
   ]
  },
  {
   "cell_type": "code",
   "execution_count": 171,
   "id": "a167f98e-1208-4094-8836-bc63358dde82",
   "metadata": {},
   "outputs": [
    {
     "name": "stdout",
     "output_type": "stream",
     "text": [
      "test accuracy: 76.20876422539327\n"
     ]
    }
   ],
   "source": [
    "y_predict = linear.predict(x_test)\n",
    "print(f'test accuracy: {linear.score(x_test, y_test)*100}')\n"
   ]
  },
  {
   "cell_type": "code",
   "execution_count": 172,
   "id": "f141e59c-d10e-4ce8-bf8a-b59b61ff3876",
   "metadata": {},
   "outputs": [
    {
     "name": "stdout",
     "output_type": "stream",
     "text": [
      "train accuracy: 74.86875826327991\n"
     ]
    }
   ],
   "source": [
    "print(f'train accuracy: {linear.score(x_train, y_train)*100}')\n"
   ]
  },
  {
   "cell_type": "code",
   "execution_count": 175,
   "id": "ee7a4eb4-d085-45c0-a770-af4364137a90",
   "metadata": {},
   "outputs": [
    {
     "data": {
      "image/png": "[encoded data removed]",
      "text/plain": [
       "<Figure size 432x288 with 1 Axes>"
      ]
     },
     "metadata": {
      "needs_background": "light"
     },
     "output_type": "display_data"
    }
   ],
   "source": [
    "plt.scatter(x_train, y_train, color='green')\n",
    "plt.scatter(x_test, y_test, color='purple')\n",
    "plt.plot(x_test, y_predict, color='black')\n",
    "plt.xlabel('Width')\n",
    "plt.ylabel('Length1')\n",
    "plt.title('Fish Data')\n",
    "plt.show()"
   ]
  },
  {
   "cell_type": "code",
   "execution_count": null,
   "id": "f3d367c6-a6ee-4654-b817-ecd872cb641c",
   "metadata": {},
   "outputs": [],
   "source": []
  },
  {
   "cell_type": "code",
   "execution_count": null,
   "id": "1b473a33-4244-43c8-b377-0de4624fa552",
   "metadata": {},
   "outputs": [],
   "source": []
  },
  {
   "cell_type": "code",
   "execution_count": null,
   "id": "b1435030-337c-465f-aadb-235a3fb40139",
   "metadata": {},
   "outputs": [],
   "source": []
  },
  {
   "cell_type": "code",
   "execution_count": null,
   "id": "af451e9c-9a8a-48bc-adb7-cd0385ff0b49",
   "metadata": {},
   "outputs": [],
   "source": []
  }
 ],
 "metadata": {
  "kernelspec": {
   "display_name": "Python 3",
   "language": "python",
   "name": "python3"
  },
  "language_info": {
   "codemirror_mode": {
    "name": "ipython",
    "version": 3
   },
   "file_extension": ".py",
   "mimetype": "text/x-python",
   "name": "python",
   "nbconvert_exporter": "python",
   "pygments_lexer": "ipython3",
   "version": "3.9.4"
  }
 },
 "nbformat": 4,
 "nbformat_minor": 5
}
